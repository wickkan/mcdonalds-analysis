{
 "cells": [
  {
   "cell_type": "markdown",
   "metadata": {},
   "source": [
    "# Loading McDonalds Dataset"
   ]
  },
  {
   "cell_type": "code",
   "execution_count": 52,
   "metadata": {},
   "outputs": [
    {
     "name": "stdout",
     "output_type": "stream",
     "text": [
      "------ Data Head ------\n",
      "   reviewer_id  store_name              category  \\\n",
      "0            1  McDonald's  Fast food restaurant   \n",
      "1            2  McDonald's  Fast food restaurant   \n",
      "2            3  McDonald's  Fast food restaurant   \n",
      "3            4  McDonald's  Fast food restaurant   \n",
      "4            5  McDonald's  Fast food restaurant   \n",
      "\n",
      "                                       store_address  latitude   longitude  \\\n",
      "0  13749 US-183 Hwy, Austin, TX 78750, United States  30.460718 -97.792874   \n",
      "1  13749 US-183 Hwy, Austin, TX 78750, United States  30.460718 -97.792874   \n",
      "2  13749 US-183 Hwy, Austin, TX 78750, United States  30.460718 -97.792874   \n",
      "3  13749 US-183 Hwy, Austin, TX 78750, United States  30.460718 -97.792874   \n",
      "4  13749 US-183 Hwy, Austin, TX 78750, United States  30.460718 -97.792874   \n",
      "\n",
      "  rating_count   review_time  \\\n",
      "0        1,240  3 months ago   \n",
      "1        1,240    5 days ago   \n",
      "2        1,240    5 days ago   \n",
      "3        1,240   a month ago   \n",
      "4        1,240  2 months ago   \n",
      "\n",
      "                                              review   rating  \n",
      "0  Why does it look like someone spit on my food?...   1 star  \n",
      "1  It'd McDonalds. It is what it is as far as the...  4 stars  \n",
      "2  Made a mobile order got to the speaker and che...   1 star  \n",
      "3  My mc. Crispy chicken sandwich was ï¿½ï¿½ï¿½ï¿...  5 stars  \n",
      "4  I repeat my order 3 times in the drive thru, a...   1 star  \n",
      "\n",
      "\n",
      "------ Data Info ------\n",
      "<class 'pandas.core.frame.DataFrame'>\n",
      "RangeIndex: 33396 entries, 0 to 33395\n",
      "Data columns (total 10 columns):\n",
      " #   Column         Non-Null Count  Dtype  \n",
      "---  ------         --------------  -----  \n",
      " 0   reviewer_id    33396 non-null  int64  \n",
      " 1   store_name     33396 non-null  object \n",
      " 2   category       33396 non-null  object \n",
      " 3   store_address  33396 non-null  object \n",
      " 4   latitude       32736 non-null  float64\n",
      " 5   longitude      32736 non-null  float64\n",
      " 6   rating_count   33396 non-null  object \n",
      " 7   review_time    33396 non-null  object \n",
      " 8   review         33396 non-null  object \n",
      " 9   rating         33396 non-null  object \n",
      "dtypes: float64(2), int64(1), object(7)\n",
      "memory usage: 2.5+ MB\n",
      "None\n",
      "\n",
      "\n",
      "------ Descriptive Statistics ------\n",
      "        reviewer_id     latitude      longitude\n",
      "count  33396.000000  32736.000000  32736.000000\n",
      "mean   16698.500000     34.442546    -90.647033\n",
      "std     9640.739131      5.344116     16.594844\n",
      "min        1.000000     25.790295   -121.995421\n",
      "25%     8349.750000     28.655350    -97.792874\n",
      "50%    16698.500000     33.931261    -81.471414\n",
      "75%    25047.250000     40.727401    -75.399919\n",
      "max    33396.000000     44.981410    -73.459820\n"
     ]
    }
   ],
   "source": [
    "import pandas as pd\n",
    "import matplotlib.pyplot as plt\n",
    "from nltk.sentiment import SentimentIntensityAnalyzer\n",
    "import nltk\n",
    "\n",
    "print('------ Data Head ------')\n",
    "try:\n",
    "    data = pd.read_csv('McDonald_s_Reviews.csv', encoding='latin1')\n",
    "    print(data.head())\n",
    "except Exception as e:\n",
    "    print(\"Error reading file with latin1 encoding:\", e)\n",
    "\n",
    "print('\\n')\n",
    "print('------ Data Info ------')\n",
    "print(data.info())\n",
    "print('\\n')\n",
    "print('------ Descriptive Statistics ------')\n",
    "print(data.describe())\n"
   ]
  },
  {
   "cell_type": "markdown",
   "metadata": {},
   "source": [
    "#### Data Cleaning"
   ]
  },
  {
   "cell_type": "code",
   "execution_count": 55,
   "metadata": {},
   "outputs": [
    {
     "name": "stdout",
     "output_type": "stream",
     "text": [
      "Corrected Columns in DataFrame: Index(['reviewer_id', 'store_name', 'category', 'store_address', 'latitude',\n",
      "       'longitude', 'rating_count', 'review_time', 'review', 'rating'],\n",
      "      dtype='object')\n"
     ]
    }
   ],
   "source": [
    "# Trim spaces from column names\n",
    "data.columns = data.columns.str.strip()\n",
    "\n",
    "# Check the columns to ensure the names are correct\n",
    "print(\"Corrected Columns in DataFrame:\", data.columns)\n",
    "\n",
    "# Proceed with filling missing values\n",
    "data['latitude'].fillna(data['latitude'].median(), inplace=True)\n",
    "data['longitude'].fillna(data['longitude'].median(), inplace=True)\n"
   ]
  },
  {
   "cell_type": "code",
   "execution_count": 61,
   "metadata": {
    "tags": []
   },
   "outputs": [
    {
     "name": "stdout",
     "output_type": "stream",
     "text": [
      "Data type of 'rating': int64\n",
      "First few entries in 'rating': 0    1\n",
      "1    4\n",
      "2    1\n",
      "3    5\n",
      "4    1\n",
      "Name: rating, dtype: int64\n"
     ]
    }
   ],
   "source": [
    "# Ensure all entries in 'rating' are converted to integers\n",
    "data['rating'] = data['rating'].apply(lambda x: int(x[0]) if isinstance(x, str) else x)\n",
    "\n",
    "# Confirm the conversion\n",
    "print(\"Data type of 'rating':\", data['rating'].dtype)\n",
    "print(\"First few entries in 'rating':\", data['rating'].head())"
   ]
  },
  {
   "cell_type": "markdown",
   "metadata": {
    "tags": []
   },
   "source": [
    "## Sentiment Analysis"
   ]
  },
  {
   "cell_type": "code",
   "execution_count": 71,
   "metadata": {},
   "outputs": [
    {
     "name": "stdout",
     "output_type": "stream",
     "text": [
      "Sample compound scores:\n",
      "0    0.5215\n",
      "1    0.8687\n",
      "2   -0.3535\n",
      "3    0.0000\n",
      "4   -0.8020\n",
      "Name: compound, dtype: float64\n",
      "\n",
      "\n",
      "Correlation between compound scores and ratings:\n",
      "          compound    rating\n",
      "compound  1.000000  0.671554\n",
      "rating    0.671554  1.000000\n",
      "\n",
      "\n"
     ]
    },
    {
     "data": {
      "image/png": "[encoded data removed]",
      "text/plain": [
       "<Figure size 640x480 with 1 Axes>"
      ]
     },
     "metadata": {},
     "output_type": "display_data"
    }
   ],
   "source": [
    "# Initialise the Sentiment Intensity Analyzer\n",
    "sia = SentimentIntensityAnalyzer()\n",
    "\n",
    "# Apply sentiment analysis to the review column and extract the compound score\n",
    "data['compound'] = data['review'].apply(lambda x: sia.polarity_scores(x)['compound'])\n",
    "\n",
    "# Confirm that the 'compound' column has been added\n",
    "print(\"Sample compound scores:\")\n",
    "print(data['compound'].head())\n",
    "print('\\n')\n",
    "# Now let's retry the correlation and the histogram plot\n",
    "print(\"Correlation between compound scores and ratings:\")\n",
    "print(data[['compound', 'rating']].corr())\n",
    "print('\\n')\n",
    "# Visualization of sentiment distribution\n",
    "data['compound'].hist(bins=20)\n",
    "plt.title('Distribution of Sentiment Scores')\n",
    "plt.xlabel('Compound Sentiment Score')\n",
    "plt.ylabel('Frequency')\n",
    "plt.show()"
   ]
  },
  {
   "cell_type": "markdown",
   "metadata": {
    "tags": []
   },
   "source": [
    "## Aspect-based Sentiment Analysis"
   ]
  },
  {
   "cell_type": "code",
   "execution_count": 74,
   "metadata": {
    "tags": []
   },
   "outputs": [
    {
     "name": "stdout",
     "output_type": "stream",
     "text": [
      "0    {'service': False, 'food': False, 'cleanliness...\n",
      "1    {'service': True, 'food': False, 'cleanliness'...\n",
      "2    {'service': True, 'food': False, 'cleanliness'...\n",
      "3    {'service': False, 'food': False, 'cleanliness...\n",
      "4    {'service': False, 'food': True, 'cleanliness'...\n",
      "Name: aspects, dtype: object\n"
     ]
    }
   ],
   "source": [
    "# Define aspects\n",
    "aspects = {'service': ['staff', 'waiter', 'manager'],\n",
    "           'food': ['burger', 'fries', 'meal', 'drink'],\n",
    "           'cleanliness': ['clean', 'dirty', 'messy']}\n",
    "\n",
    "# Function to search for aspects in text\n",
    "def find_aspects(text):\n",
    "    found_aspects = {key: any(word in text.lower() for word in words) for key, words in aspects.items()}\n",
    "    return found_aspects\n",
    "\n",
    "# Apply to the reviews\n",
    "data['aspects'] = data['review'].apply(find_aspects)\n",
    "\n",
    "# Display results\n",
    "print(data['aspects'].head())\n"
   ]
  },
  {
   "cell_type": "code",
   "execution_count": 80,
   "metadata": {
    "tags": []
   },
   "outputs": [
    {
     "name": "stderr",
     "output_type": "stream",
     "text": [
      "[nltk_data] Downloading package punkt to /Users/kanishkaw/nltk_data...\n",
      "[nltk_data]   Package punkt is already up-to-date!\n"
     ]
    }
   ],
   "source": [
    "nltk.download('punkt')\n",
    "from nltk.tokenize import sent_tokenize\n",
    "\n",
    "def aspect_sentences(text):\n",
    "    sentences = sent_tokenize(text)\n",
    "    aspect_dict = {key: [] for key in aspects}\n",
    "    for sentence in sentences:\n",
    "        for aspect, keywords in aspects.items():\n",
    "            if any(keyword in sentence.lower() for keyword in keywords):\n",
    "                aspect_dict[aspect].append(sentence)\n",
    "    return aspect_dict\n",
    "\n",
    "data['aspect_sentences'] = data['review'].apply(aspect_sentences)\n"
   ]
  },
  {
   "cell_type": "code",
   "execution_count": 82,
   "metadata": {
    "tags": []
   },
   "outputs": [],
   "source": [
    "def aspect_sentiment(aspect_dict):\n",
    "    sia = SentimentIntensityAnalyzer()\n",
    "    sentiment_scores = {aspect: [sia.polarity_scores(sentence)['compound'] for sentence in sentences]\n",
    "                        for aspect, sentences in aspect_dict.items()}\n",
    "    return sentiment_scores\n",
    "\n",
    "data['aspect_sentiment'] = data['aspect_sentences'].apply(aspect_sentiment)\n"
   ]
  },
  {
   "cell_type": "code",
   "execution_count": null,
   "metadata": {},
   "outputs": [],
   "source": []
  }
 ],
 "metadata": {
  "kernelspec": {
   "display_name": "Python 3 (ipykernel)",
   "language": "python",
   "name": "python3"
  },
  "language_info": {
   "codemirror_mode": {
    "name": "ipython",
    "version": 3
   },
   "file_extension": ".py",
   "mimetype": "text/x-python",
   "name": "python",
   "nbconvert_exporter": "python",
   "pygments_lexer": "ipython3",
   "version": "3.11.7"
  }
 },
 "nbformat": 4,
 "nbformat_minor": 4
}
