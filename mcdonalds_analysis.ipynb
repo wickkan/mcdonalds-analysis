{
 "cells": [
  {
   "cell_type": "markdown",
   "metadata": {},
   "source": [
    "# Loading McDonalds Dataset"
   ]
  },
  {
   "cell_type": "code",
   "execution_count": 29,
   "metadata": {},
   "outputs": [
    {
     "name": "stdout",
     "output_type": "stream",
     "text": [
      "------ Data Head ------\n",
      "   reviewer_id  store_name              category  \\\n",
      "0            1  McDonald's  Fast food restaurant   \n",
      "1            2  McDonald's  Fast food restaurant   \n",
      "2            3  McDonald's  Fast food restaurant   \n",
      "3            4  McDonald's  Fast food restaurant   \n",
      "4            5  McDonald's  Fast food restaurant   \n",
      "\n",
      "                                       store_address  latitude   longitude  \\\n",
      "0  13749 US-183 Hwy, Austin, TX 78750, United States  30.460718 -97.792874   \n",
      "1  13749 US-183 Hwy, Austin, TX 78750, United States  30.460718 -97.792874   \n",
      "2  13749 US-183 Hwy, Austin, TX 78750, United States  30.460718 -97.792874   \n",
      "3  13749 US-183 Hwy, Austin, TX 78750, United States  30.460718 -97.792874   \n",
      "4  13749 US-183 Hwy, Austin, TX 78750, United States  30.460718 -97.792874   \n",
      "\n",
      "  rating_count   review_time  \\\n",
      "0        1,240  3 months ago   \n",
      "1        1,240    5 days ago   \n",
      "2        1,240    5 days ago   \n",
      "3        1,240   a month ago   \n",
      "4        1,240  2 months ago   \n",
      "\n",
      "                                              review   rating  \n",
      "0  Why does it look like someone spit on my food?...   1 star  \n",
      "1  It'd McDonalds. It is what it is as far as the...  4 stars  \n",
      "2  Made a mobile order got to the speaker and che...   1 star  \n",
      "3  My mc. Crispy chicken sandwich was ï¿½ï¿½ï¿½ï¿...  5 stars  \n",
      "4  I repeat my order 3 times in the drive thru, a...   1 star  \n",
      "\n",
      "\n",
      "------ Data Info ------\n",
      "<class 'pandas.core.frame.DataFrame'>\n",
      "RangeIndex: 33396 entries, 0 to 33395\n",
      "Data columns (total 10 columns):\n",
      " #   Column         Non-Null Count  Dtype  \n",
      "---  ------         --------------  -----  \n",
      " 0   reviewer_id    33396 non-null  int64  \n",
      " 1   store_name     33396 non-null  object \n",
      " 2   category       33396 non-null  object \n",
      " 3   store_address  33396 non-null  object \n",
      " 4   latitude       32736 non-null  float64\n",
      " 5   longitude      32736 non-null  float64\n",
      " 6   rating_count   33396 non-null  object \n",
      " 7   review_time    33396 non-null  object \n",
      " 8   review         33396 non-null  object \n",
      " 9   rating         33396 non-null  object \n",
      "dtypes: float64(2), int64(1), object(7)\n",
      "memory usage: 2.5+ MB\n",
      "None\n",
      "\n",
      "\n",
      "------ Descriptive Statistics ------\n",
      "        reviewer_id     latitude      longitude\n",
      "count  33396.000000  32736.000000  32736.000000\n",
      "mean   16698.500000     34.442546    -90.647033\n",
      "std     9640.739131      5.344116     16.594844\n",
      "min        1.000000     25.790295   -121.995421\n",
      "25%     8349.750000     28.655350    -97.792874\n",
      "50%    16698.500000     33.931261    -81.471414\n",
      "75%    25047.250000     40.727401    -75.399919\n",
      "max    33396.000000     44.981410    -73.459820\n"
     ]
    }
   ],
   "source": [
    "import pandas as pd\n",
    "import matplotlib.pyplot as plt\n",
    "\n",
    "print('------ Data Head ------')\n",
    "try:\n",
    "    data = pd.read_csv('McDonald_s_Reviews.csv', encoding='latin1')\n",
    "    print(data.head())\n",
    "except Exception as e:\n",
    "    print(\"Error reading file with latin1 encoding:\", e)\n",
    "\n",
    "print('\\n')\n",
    "print('------ Data Info ------')\n",
    "print(data.info())\n",
    "print('\\n')\n",
    "print('------ Descriptive Statistics ------')\n",
    "print(data.describe())\n"
   ]
  },
  {
   "cell_type": "markdown",
   "metadata": {},
   "source": [
    "#### Data Cleaning"
   ]
  },
  {
   "cell_type": "code",
   "execution_count": 32,
   "metadata": {},
   "outputs": [
    {
     "name": "stdout",
     "output_type": "stream",
     "text": [
      "Corrected Columns in DataFrame: Index(['reviewer_id', 'store_name', 'category', 'store_address', 'latitude',\n",
      "       'longitude', 'rating_count', 'review_time', 'review', 'rating'],\n",
      "      dtype='object')\n"
     ]
    }
   ],
   "source": [
    "# Trim spaces from column names\n",
    "data.columns = data.columns.str.strip()\n",
    "\n",
    "# Check the columns to ensure the names are correct\n",
    "print(\"Corrected Columns in DataFrame:\", data.columns)\n",
    "\n",
    "# Proceed with filling missing values\n",
    "data['latitude'].fillna(data['latitude'].median(), inplace=True)\n",
    "data['longitude'].fillna(data['longitude'].median(), inplace=True)\n"
   ]
  },
  {
   "cell_type": "markdown",
   "metadata": {},
   "source": [
    "## Sentiment Analysis"
   ]
  },
  {
   "cell_type": "code",
   "execution_count": 48,
   "metadata": {},
   "outputs": [
    {
     "name": "stderr",
     "output_type": "stream",
     "text": [
      "[nltk_data] Downloading package vader_lexicon to\n",
      "[nltk_data]     /Users/kanishkaw/nltk_data...\n",
      "[nltk_data]   Package vader_lexicon is already up-to-date!\n"
     ]
    },
    {
     "data": {
      "text/plain": [
       "0    {'neg': 0.027, 'neu': 0.879, 'pos': 0.094, 'co...\n",
       "1    {'neg': 0.0, 'neu': 0.791, 'pos': 0.209, 'comp...\n",
       "2    {'neg': 0.051, 'neu': 0.949, 'pos': 0.0, 'comp...\n",
       "3    {'neg': 0.0, 'neu': 1.0, 'pos': 0.0, 'compound...\n",
       "4    {'neg': 0.143, 'neu': 0.857, 'pos': 0.0, 'comp...\n",
       "Name: review, dtype: object"
      ]
     },
     "execution_count": 48,
     "metadata": {},
     "output_type": "execute_result"
    }
   ],
   "source": [
    "from nltk.sentiment import SentimentIntensityAnalyzer\n",
    "import nltk\n",
    "nltk.download('vader_lexicon')\n",
    "\n",
    "# Initialize the Sentiment Analyzer\n",
    "sia = SentimentIntensityAnalyzer()\n",
    "\n",
    "# Example: Applying sentiment analysis to the first 5 reviews\n",
    "data['review'].head().apply(lambda x: sia.polarity_scores(x))"
   ]
  },
  {
   "cell_type": "code",
   "execution_count": 50,
   "metadata": {},
   "outputs": [
    {
     "name": "stdout",
     "output_type": "stream",
     "text": [
      "Data type of 'rating': int64\n",
      "First few entries in 'rating': 0    1\n",
      "1    4\n",
      "2    1\n",
      "3    5\n",
      "4    1\n",
      "Name: rating, dtype: int64\n",
      "Updated data type of 'rating': int64\n",
      "0    1\n",
      "1    4\n",
      "2    1\n",
      "3    5\n",
      "4    1\n",
      "Name: rating, dtype: int64\n",
      "Correlation between compound scores and ratings:\n"
     ]
    },
    {
     "ename": "KeyError",
     "evalue": "\"['compound'] not in index\"",
     "output_type": "error",
     "traceback": [
      "\u001b[0;31m---------------------------------------------------------------------------\u001b[0m",
      "\u001b[0;31mKeyError\u001b[0m                                  Traceback (most recent call last)",
      "Cell \u001b[0;32mIn[50], line 15\u001b[0m\n\u001b[1;32m     13\u001b[0m \u001b[38;5;66;03m# Correlation between compound sentiment scores and numerical ratings\u001b[39;00m\n\u001b[1;32m     14\u001b[0m \u001b[38;5;28mprint\u001b[39m(\u001b[38;5;124m\"\u001b[39m\u001b[38;5;124mCorrelation between compound scores and ratings:\u001b[39m\u001b[38;5;124m\"\u001b[39m)\n\u001b[0;32m---> 15\u001b[0m \u001b[38;5;28mprint\u001b[39m(data[[\u001b[38;5;124m'\u001b[39m\u001b[38;5;124mcompound\u001b[39m\u001b[38;5;124m'\u001b[39m, \u001b[38;5;124m'\u001b[39m\u001b[38;5;124mrating\u001b[39m\u001b[38;5;124m'\u001b[39m]]\u001b[38;5;241m.\u001b[39mcorr())\n\u001b[1;32m     17\u001b[0m \u001b[38;5;66;03m# Visualization of sentiment distribution\u001b[39;00m\n\u001b[1;32m     18\u001b[0m data[\u001b[38;5;124m'\u001b[39m\u001b[38;5;124mcompound\u001b[39m\u001b[38;5;124m'\u001b[39m]\u001b[38;5;241m.\u001b[39mhist(bins\u001b[38;5;241m=\u001b[39m\u001b[38;5;241m20\u001b[39m)\n",
      "File \u001b[0;32m/opt/anaconda3/lib/python3.11/site-packages/pandas/core/frame.py:3899\u001b[0m, in \u001b[0;36mDataFrame.__getitem__\u001b[0;34m(self, key)\u001b[0m\n\u001b[1;32m   3897\u001b[0m     \u001b[38;5;28;01mif\u001b[39;00m is_iterator(key):\n\u001b[1;32m   3898\u001b[0m         key \u001b[38;5;241m=\u001b[39m \u001b[38;5;28mlist\u001b[39m(key)\n\u001b[0;32m-> 3899\u001b[0m     indexer \u001b[38;5;241m=\u001b[39m \u001b[38;5;28mself\u001b[39m\u001b[38;5;241m.\u001b[39mcolumns\u001b[38;5;241m.\u001b[39m_get_indexer_strict(key, \u001b[38;5;124m\"\u001b[39m\u001b[38;5;124mcolumns\u001b[39m\u001b[38;5;124m\"\u001b[39m)[\u001b[38;5;241m1\u001b[39m]\n\u001b[1;32m   3901\u001b[0m \u001b[38;5;66;03m# take() does not accept boolean indexers\u001b[39;00m\n\u001b[1;32m   3902\u001b[0m \u001b[38;5;28;01mif\u001b[39;00m \u001b[38;5;28mgetattr\u001b[39m(indexer, \u001b[38;5;124m\"\u001b[39m\u001b[38;5;124mdtype\u001b[39m\u001b[38;5;124m\"\u001b[39m, \u001b[38;5;28;01mNone\u001b[39;00m) \u001b[38;5;241m==\u001b[39m \u001b[38;5;28mbool\u001b[39m:\n",
      "File \u001b[0;32m/opt/anaconda3/lib/python3.11/site-packages/pandas/core/indexes/base.py:6115\u001b[0m, in \u001b[0;36mIndex._get_indexer_strict\u001b[0;34m(self, key, axis_name)\u001b[0m\n\u001b[1;32m   6112\u001b[0m \u001b[38;5;28;01melse\u001b[39;00m:\n\u001b[1;32m   6113\u001b[0m     keyarr, indexer, new_indexer \u001b[38;5;241m=\u001b[39m \u001b[38;5;28mself\u001b[39m\u001b[38;5;241m.\u001b[39m_reindex_non_unique(keyarr)\n\u001b[0;32m-> 6115\u001b[0m \u001b[38;5;28mself\u001b[39m\u001b[38;5;241m.\u001b[39m_raise_if_missing(keyarr, indexer, axis_name)\n\u001b[1;32m   6117\u001b[0m keyarr \u001b[38;5;241m=\u001b[39m \u001b[38;5;28mself\u001b[39m\u001b[38;5;241m.\u001b[39mtake(indexer)\n\u001b[1;32m   6118\u001b[0m \u001b[38;5;28;01mif\u001b[39;00m \u001b[38;5;28misinstance\u001b[39m(key, Index):\n\u001b[1;32m   6119\u001b[0m     \u001b[38;5;66;03m# GH 42790 - Preserve name from an Index\u001b[39;00m\n",
      "File \u001b[0;32m/opt/anaconda3/lib/python3.11/site-packages/pandas/core/indexes/base.py:6179\u001b[0m, in \u001b[0;36mIndex._raise_if_missing\u001b[0;34m(self, key, indexer, axis_name)\u001b[0m\n\u001b[1;32m   6176\u001b[0m     \u001b[38;5;28;01mraise\u001b[39;00m \u001b[38;5;167;01mKeyError\u001b[39;00m(\u001b[38;5;124mf\u001b[39m\u001b[38;5;124m\"\u001b[39m\u001b[38;5;124mNone of [\u001b[39m\u001b[38;5;132;01m{\u001b[39;00mkey\u001b[38;5;132;01m}\u001b[39;00m\u001b[38;5;124m] are in the [\u001b[39m\u001b[38;5;132;01m{\u001b[39;00maxis_name\u001b[38;5;132;01m}\u001b[39;00m\u001b[38;5;124m]\u001b[39m\u001b[38;5;124m\"\u001b[39m)\n\u001b[1;32m   6178\u001b[0m not_found \u001b[38;5;241m=\u001b[39m \u001b[38;5;28mlist\u001b[39m(ensure_index(key)[missing_mask\u001b[38;5;241m.\u001b[39mnonzero()[\u001b[38;5;241m0\u001b[39m]]\u001b[38;5;241m.\u001b[39munique())\n\u001b[0;32m-> 6179\u001b[0m \u001b[38;5;28;01mraise\u001b[39;00m \u001b[38;5;167;01mKeyError\u001b[39;00m(\u001b[38;5;124mf\u001b[39m\u001b[38;5;124m\"\u001b[39m\u001b[38;5;132;01m{\u001b[39;00mnot_found\u001b[38;5;132;01m}\u001b[39;00m\u001b[38;5;124m not in index\u001b[39m\u001b[38;5;124m\"\u001b[39m)\n",
      "\u001b[0;31mKeyError\u001b[0m: \"['compound'] not in index\""
     ]
    }
   ],
   "source": [
    "# Check the data type of 'rating'\n",
    "print(\"Data type of 'rating':\", data['rating'].dtype)\n",
    "print(\"First few entries in 'rating':\", data['rating'].head())\n",
    "\n",
    "# If 'rating' is not an integer, convert it\n",
    "if data['rating'].dtype == object:\n",
    "    data['rating'] = data['rating'].str.extract('(\\d+)').astype(int)\n",
    "\n",
    "# Confirm the conversion if it was necessary\n",
    "print(\"Updated data type of 'rating':\", data['rating'].dtype)\n",
    "print(data['rating'].head())\n",
    "\n",
    "# Correlation between compound sentiment scores and numerical ratings\n",
    "print(\"Correlation between compound scores and ratings:\")\n",
    "print(data[['compound', 'rating']].corr())\n",
    "\n",
    "# Visualization of sentiment distribution\n",
    "data['compound'].hist(bins=20)\n",
    "plt.title('Distribution of Sentiment Scores')\n",
    "plt.xlabel('Compound Sentiment Score')\n",
    "plt.ylabel('Frequency')\n",
    "plt.show()\n",
    "\n"
   ]
  },
  {
   "cell_type": "code",
   "execution_count": null,
   "metadata": {
    "tags": []
   },
   "outputs": [],
   "source": []
  },
  {
   "cell_type": "code",
   "execution_count": null,
   "metadata": {},
   "outputs": [],
   "source": []
  }
 ],
 "metadata": {
  "kernelspec": {
   "display_name": "Python 3 (ipykernel)",
   "language": "python",
   "name": "python3"
  },
  "language_info": {
   "codemirror_mode": {
    "name": "ipython",
    "version": 3
   },
   "file_extension": ".py",
   "mimetype": "text/x-python",
   "name": "python",
   "nbconvert_exporter": "python",
   "pygments_lexer": "ipython3",
   "version": "3.11.7"
  }
 },
 "nbformat": 4,
 "nbformat_minor": 4
}
